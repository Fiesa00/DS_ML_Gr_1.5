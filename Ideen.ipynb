{
 "cells": [
  {
   "cell_type": "markdown",
   "metadata": {},
   "source": [
    "# Ideen\n",
    "Dieses Jupyter Notebook ist dafür da, Ideen für das Projekt \"Bäckerei-Umsatz-Vorhersage\" festzuhalten."
   ]
  },
  {
   "cell_type": "markdown",
   "metadata": {},
   "source": [
    "Weitere Variablen:<br> \n",
    "- Semester-/Schulferien, Feiertage\n",
    "- Fußballspiele/Handballspiele<br>\n",
    "- Kreuzfahrten<br>\n",
    "- Public Viewing<br>\n",
    "- Wirtschaftslage ->Arbeitslosigkeit/GDP<br>\n",
    "- Veranstaltungen (Weihnachtsmarkt, Dom (Freimärkte), Sonstige)\n",
    "- Inflationsrate?"
   ]
  },
  {
   "cell_type": "markdown",
   "metadata": {},
   "source": [
    "Feature Engineering:\n",
    "- Datum --> Wochentage Luisa\n",
    "- Wettercode -> Art des Wetter: (bewölkt, regen, sonnenschein, etc.) Wiebke\n",
    "- Warengruppe -> Produkte (Brötchen, Konditorei, etc.)\n",
    "- Temperatur -> Kategorien (wärmer, kälter, normal, etc. (nach Jahreszeit)) Luisa\n",
    "    - Durchschnittstemperatur pro Monat pro Jahr\n",
    "\n",
    "- Ziel: kleine Variableanzahl!!"
   ]
  }
 ],
 "metadata": {
  "kernelspec": {
   "display_name": "Python 3",
   "language": "python",
   "name": "python3"
  },
  "language_info": {
   "name": "python",
   "version": "3.12.1"
  }
 },
 "nbformat": 4,
 "nbformat_minor": 2
}
