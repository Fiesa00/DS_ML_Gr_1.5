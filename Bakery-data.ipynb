{
 "cells": [
  {
   "cell_type": "markdown",
   "metadata": {},
   "source": [
    "## Bäckerei-Umsatzdaten\n",
    "\n",
    "Wichtige Links: <br>\n",
    "- [Handbuch](https://opencampus.gitbook.io/opencampus-machine-learning-program/courses/einfuehrung)\n",
    "\n",
    "#### Woche 3 - Versionierung mit git & Datenaufbereitung\n",
    "Aufgaben:\n",
    "- Die Dateien umsatzdaten_gekuerzt.csv, kiwo.csv und wetter.csv und in einem Pandas Dataframe zusammenführen.\n",
    "- Euch im Team treffen und aufteilen, wer für welche Variablen deskriptive Statistiken und Visualisierungen erstellt.\n",
    "- Deskriptive Statistiken und Visualisierungen zu den jeweiligen Variablen erstellen.\n"
   ]
  },
  {
   "cell_type": "code",
   "execution_count": 5,
   "metadata": {},
   "outputs": [
    {
     "name": "stdout",
     "output_type": "stream",
     "text": [
      "        Datum  Warengruppe      Umsatz\n",
      "0  2013-07-01            1  148.828353\n",
      "1  2013-07-02            1  159.793757\n",
      "2  2013-07-03            1  111.885594\n",
      "3  2013-07-04            1  168.864941\n",
      "4  2013-07-05            1  171.280754\n",
      "(9334, 3)\n",
      "        Datum  KielerWoche\n",
      "0  2012-06-16            1\n",
      "1  2012-06-17            1\n",
      "2  2012-06-18            1\n",
      "3  2012-06-19            1\n",
      "4  2012-06-20            1\n",
      "(72, 2)\n",
      "        Datum  Bewoelkung  Temperatur  Windgeschwindigkeit  Wettercode\n",
      "0  2012-01-01         8.0      9.8250                   14        58.0\n",
      "1  2012-01-02         7.0      7.4375                   12         NaN\n",
      "2  2012-01-03         8.0      5.5375                   18        63.0\n",
      "3  2012-01-04         4.0      5.6875                   19        80.0\n",
      "4  2012-01-05         6.0      5.3000                   23        80.0\n",
      "(2601, 5)\n"
     ]
    }
   ],
   "source": [
    "#Einlesen der umsatzdaten_gekuerzt.csv Datei\n",
    "import pandas as pd\n",
    "umsatz_csv_url = 'https://raw.githubusercontent.com/opencampus-sh/einfuehrung-in-data-science-und-ml/refs/heads/main/umsatzdaten_gekuerzt.csv'\n",
    "df_umsatzdaten = pd.read_csv(umsatz_csv_url)\n",
    "\n",
    "#Einlesen von kiwo.csv\n",
    "kiwo_csv_url = 'https://raw.githubusercontent.com/opencampus-sh/einfuehrung-in-data-science-und-ml/refs/heads/main/kiwo.csv'\n",
    "df_kiwo = pd.read_csv(kiwo_csv_url)\n",
    "\n",
    "#Einlesen von wetter.csv\n",
    "wetter_csv_url = 'https://raw.githubusercontent.com/opencampus-sh/einfuehrung-in-data-science-und-ml/refs/heads/main/wetter.csv'\n",
    "df_wetter = pd.read_csv(wetter_csv_url)\n",
    "\n",
    "print(df_umsatzdaten.head())\n",
    "print(df_umsatzdaten.shape)\n",
    "print(df_kiwo.head())\n",
    "print(df_kiwo.shape)\n",
    "print(df_wetter.head())\n",
    "print(df_wetter.shape)"
   ]
  },
  {
   "cell_type": "code",
   "execution_count": 6,
   "metadata": {},
   "outputs": [
    {
     "name": "stdout",
     "output_type": "stream",
     "text": [
      "        Datum  Warengruppe      Umsatz  KielerWoche  Bewoelkung  Temperatur  \\\n",
      "0  2013-07-01            1  148.828353          NaN         6.0     17.8375   \n",
      "1  2013-07-02            1  159.793757          NaN         3.0     17.3125   \n",
      "2  2013-07-03            1  111.885594          NaN         7.0     21.0750   \n",
      "3  2013-07-04            1  168.864941          NaN         7.0     18.8500   \n",
      "4  2013-07-05            1  171.280754          NaN         5.0     19.9750   \n",
      "\n",
      "   Windgeschwindigkeit  Wettercode  \n",
      "0                 15.0        20.0  \n",
      "1                 10.0         NaN  \n",
      "2                  6.0        61.0  \n",
      "3                  7.0        20.0  \n",
      "4                 12.0         NaN  \n",
      "(9334, 8)\n"
     ]
    }
   ],
   "source": [
    "#Zusammenführung der Dataframes\n",
    "\n",
    "df_umsatz_kiwo_wetter = df_umsatzdaten.merge(df_kiwo, on='Datum', how='left') \\\n",
    "                            .merge(df_wetter, on='Datum', how='left')\n",
    "\n",
    "#Problem: Nur übereinstimmende Werte für 'Datum' werden im zusammengeführten Dataframe angezeigt\n",
    "\n",
    "print(df_umsatz_kiwo_wetter.head())\n",
    "print(df_umsatz_kiwo_wetter.shape) "
   ]
  },
  {
   "cell_type": "code",
   "execution_count": 19,
   "metadata": {},
   "outputs": [
    {
     "name": "stdout",
     "output_type": "stream",
     "text": [
      "            Umsatz_mean\n",
      "Bewoelkung             \n",
      "0.0         1121.525843\n",
      "4.0         1431.575457\n",
      "5.0         1094.018270\n",
      "6.0         1061.305068\n",
      "8.0         1152.438868\n",
      "10.0        1104.442741\n",
      "12.0        1109.397148\n",
      "15.0        1182.150521\n",
      "16.0        1855.501517\n",
      "18.0        1085.230357\n",
      "20.0        1126.403334\n",
      "24.0        1109.736281\n",
      "25.0        1093.391270\n",
      "28.0         993.893071\n",
      "30.0        1060.559325\n",
      "35.0        1033.861790\n",
      "36.0         947.367927\n",
      "40.0         956.560651\n",
      "42.0         867.489406\n",
      "48.0         903.576534\n"
     ]
    }
   ],
   "source": [
    "import matplotlib.pyplot as plt\n",
    "import numpy as np\n",
    "df_umsatz_kiwo_wetter2=df_umsatz_kiwo_wetter.groupby('Datum').sum('Umsatz')\n",
    "Wolke=df_umsatz_kiwo_wetter2.groupby('Bewoelkung').agg(Umsatz_mean=('Umsatz','mean'))\n",
    "print(Wolke)\n",
    "#plt.bar(Wolke['Bewoelkung'], Wolke['Umsatz_mean'])"
   ]
  },
  {
   "cell_type": "code",
   "execution_count": 8,
   "metadata": {},
   "outputs": [],
   "source": [
    "# Nina war hier"
   ]
  }
 ],
 "metadata": {
  "kernelspec": {
   "display_name": "Python 3",
   "language": "python",
   "name": "python3"
  },
  "language_info": {
   "codemirror_mode": {
    "name": "ipython",
    "version": 3
   },
   "file_extension": ".py",
   "mimetype": "text/x-python",
   "name": "python",
   "nbconvert_exporter": "python",
   "pygments_lexer": "ipython3",
   "version": "3.12.1"
  }
 },
 "nbformat": 4,
 "nbformat_minor": 2
}
