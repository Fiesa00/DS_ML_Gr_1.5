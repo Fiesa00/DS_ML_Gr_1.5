{
 "cells": [
  {
   "cell_type": "code",
   "execution_count": null,
   "metadata": {},
   "outputs": [],
   "source": [
    "import pandas as pd\n",
    "import statsmodels.formula.api as smf\n",
    "\n",
    "#load data\n",
    "\n",
    "#Lineares Model fitting\n",
    "# Fit the linear model\n",
    "mod = smf.ols('price ~ sqft_lot15 + C(condition)', data=house_pricing).fit()\n",
    "\n",
    "# Print the summary\n",
    "print(mod.summary())"
   ]
  }
 ],
 "metadata": {
  "kernelspec": {
   "display_name": "Python 3",
   "language": "python",
   "name": "python3"
  },
  "language_info": {
   "name": "python",
   "version": "3.12.1"
  }
 },
 "nbformat": 4,
 "nbformat_minor": 2
}
