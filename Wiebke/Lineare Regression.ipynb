{
 "cells": [
  {
   "cell_type": "code",
   "execution_count": null,
   "metadata": {
    "vscode": {
     "languageId": "plaintext"
    }
   },
   "outputs": [],
   "source": [
    "import pandas as pd\n",
    "# Sample data\n",
    "data = pd.DataFrame({\n",
    "'date': pd.date_range(start='2021-01-01', periods=100, freq='D'),\n",
    "'value': range(100)\n",
    "})\n",
    "# Ensure the data is sorted by date\n",
    "data = data.sort_values(by='date')\n",
    "print (data.head())\n",
    "# Define your date thresholds\n",
    "train_end_date = '2021-03-31'\n",
    "validation_end_date = '2021-04-30'\n",
    "# Convert to datetime if not already\n",
    "data['date'] = pd.to_datetime(data['date'])\n",
    "# Split the data based on the date thresholds\n",
    "train_data = data[data['date'] <= train_end_date]\n",
    "validation_data = data[(data['date'] > train_end_date) & (data['date'] <= validation_end_date)]\n",
    "test_data = data[data['date'] > validation_end_date]\n",
    "# Check the dimensions of the datasets\n",
    "print(\"Training dataset dimensions:\", train_data.shape)\n",
    "print(\"Validation dataset dimensions:\", validation_data.shape)\n",
    "print(\"Test dataset dimensions:\", test_data.shape)\n"
   ]
  }
 ],
 "metadata": {
  "language_info": {
   "name": "python"
  }
 },
 "nbformat": 4,
 "nbformat_minor": 2
}
