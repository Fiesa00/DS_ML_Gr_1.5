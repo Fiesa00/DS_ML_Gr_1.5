{
 "cells": [
  {
   "cell_type": "markdown",
   "metadata": {},
   "source": [
    "## Variablen\n"
   ]
  },
  {
   "cell_type": "code",
   "execution_count": 5,
   "metadata": {},
   "outputs": [
    {
     "name": "stdout",
     "output_type": "stream",
     "text": [
      "          Datum  Warengruppe      Umsatz  Temperatur  Monat Jahreszeit  \\\n",
      "0    2013-07-01            1  148.828353     17.8375    7.0     Sommer   \n",
      "1    2013-07-02            1  159.793757     17.3125    7.0     Sommer   \n",
      "2    2013-07-03            1  111.885594     21.0750    7.0     Sommer   \n",
      "3    2013-07-04            1  168.864941     18.8500    7.0     Sommer   \n",
      "4    2013-07-05            1  171.280754     19.9750    7.0     Sommer   \n",
      "...         ...          ...         ...         ...    ...        ...   \n",
      "9329 2017-12-21            6   87.471228      6.2375   12.0     Winter   \n",
      "9330 2017-12-22            6   71.911652      5.7625   12.0     Winter   \n",
      "9331 2017-12-23            6   84.062223      7.8000   12.0     Winter   \n",
      "9332 2017-12-24            6   60.981969      8.1125   12.0     Winter   \n",
      "9333 2017-12-27            6   34.972644      4.6125   12.0     Winter   \n",
      "\n",
      "      Frühling  Sommer  Herbst  Winter  Temp_warm  Temp_cold  Temp_average  \n",
      "0          0.0     1.0     0.0     0.0        0.0        0.0           1.0  \n",
      "1          0.0     1.0     0.0     0.0        0.0        0.0           1.0  \n",
      "2          0.0     1.0     0.0     0.0        0.0        0.0           1.0  \n",
      "3          0.0     1.0     0.0     0.0        0.0        0.0           1.0  \n",
      "4          0.0     1.0     0.0     0.0        0.0        0.0           1.0  \n",
      "...        ...     ...     ...     ...        ...        ...           ...  \n",
      "9329       0.0     0.0     0.0     1.0        0.0        0.0           1.0  \n",
      "9330       0.0     0.0     0.0     1.0        0.0        0.0           1.0  \n",
      "9331       0.0     0.0     0.0     1.0        1.0        0.0           0.0  \n",
      "9332       0.0     0.0     0.0     1.0        1.0        0.0           0.0  \n",
      "9333       0.0     0.0     0.0     1.0        0.0        0.0           1.0  \n",
      "\n",
      "[9334 rows x 13 columns]\n",
      "Das DataFrame wurde erfolgreich exportiert nach: temperatur_umsatz_bin.csv\n"
     ]
    }
   ],
   "source": [
    "# Zusammengeführtes Dataframe - Temperaturen\n",
    "import pandas as pd\n",
    "#Einlesen des Umsatz-Files\n",
    "umsatz_csv_url = 'https://raw.githubusercontent.com/opencampus-sh/einfuehrung-in-data-science-und-ml/refs/heads/main/umsatzdaten_gekuerzt.csv'\n",
    "df_umsatzdaten = pd.read_csv(umsatz_csv_url)\n",
    "\n",
    "#CSV-Datei laden\n",
    "Temperatur_csv = \"Temperatur_ohne_Umsatz.csv\"\n",
    "df_temperatur = pd.read_csv(Temperatur_csv)\n",
    "\n",
    "# Sicherstellen, dass beide DataFrames die Spalte 'Datum' im gleichen Format haben\n",
    "df_temperatur['Datum'] = pd.to_datetime(df_temperatur['Datum'])\n",
    "df_umsatzdaten['Datum'] = pd.to_datetime(df_umsatzdaten['Datum'])\n",
    "\n",
    "\n",
    "# Mergen der DataFrames auf 'Datum'\n",
    "df_umsatz_temperatur_bin = df_umsatzdaten.merge(df_temperatur, on='Datum', how='left')\n",
    "\n",
    "print(df_umsatz_temperatur_bin)\n",
    "\n",
    "# Export des DataFrames als CSV\n",
    "export_path = \"temperatur_umsatz_bin.csv\"\n",
    "df_umsatz_temperatur_bin.to_csv(export_path, index=False)\n",
    "\n",
    "print(f\"Das DataFrame wurde erfolgreich exportiert nach: {export_path}\")"
   ]
  },
  {
   "cell_type": "code",
   "execution_count": null,
   "metadata": {},
   "outputs": [],
   "source": []
  }
 ],
 "metadata": {
  "kernelspec": {
   "display_name": "Python 3",
   "language": "python",
   "name": "python3"
  },
  "language_info": {
   "codemirror_mode": {
    "name": "ipython",
    "version": 3
   },
   "file_extension": ".py",
   "mimetype": "text/x-python",
   "name": "python",
   "nbconvert_exporter": "python",
   "pygments_lexer": "ipython3",
   "version": "3.12.1"
  }
 },
 "nbformat": 4,
 "nbformat_minor": 2
}
