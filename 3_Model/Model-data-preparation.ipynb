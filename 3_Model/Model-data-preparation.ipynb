{
 "cells": [
  {
   "cell_type": "markdown",
   "metadata": {},
   "source": [
    "neural_net_data_preparation.ipynb einfach erstmal kopiert"
   ]
  },
  {
   "cell_type": "code",
   "execution_count": null,
   "metadata": {},
   "outputs": [],
   "source": [
    "# Import necessary libraries\n",
    "import pandas as pd\n",
    "import numpy as np\n",
    "import os\n",
    "\n",
    "# Import Data\n",
    "data = pd.read_csv(\"https://raw.githubusercontent.com/opencampus-sh/einfuehrung-in-data-science-und-ml/main/house_pricing_data/house_pricing_train.csv\")\n",
    "data.head()  # Print first few rows to verify"
   ]
  },
  {
   "cell_type": "code",
   "execution_count": null,
   "metadata": {},
   "outputs": [],
   "source": [
    "# Define categorical features\n",
    "categorical_features = ['bathrooms', 'condition']\n",
    "\n",
    "# Inspect data types and unique values for categorical columns\n",
    "print(data[categorical_features].dtypes)\n",
    "print(\"Unique Values:\\n\",data[categorical_features].apply(lambda x: x.unique()))\n",
    "\n",
    "# Ensure categorical columns are treated as categories\n",
    "for col in categorical_features:\n",
    "    data[col] = data[col].astype('category')\n",
    "\n",
    "# Encode categorical variables using pd.get_dummies\n",
    "features = pd.get_dummies(data[categorical_features], drop_first=True, dtype=int)\n",
    "\n",
    "# Include any numeric columns that are not categorical\n",
    "features['sqft_living15'] = data['sqft_living15']\n",
    "\n",
    "# Construct the prepared data set including the dependent variable ('label')\n",
    "prepared_data = pd.concat([data[['price']], features], axis=1)\n",
    "\n",
    "# Handle missing values by removing rows with any missing values\n",
    "prepared_data = prepared_data.dropna()\n",
    "\n",
    "# Display the shape of the prepared data set\n",
    "print(prepared_data.shape)\n",
    "# Display the first few rows of the prepared data set\n",
    "prepared_data.head()"
   ]
  },
  {
   "cell_type": "code",
   "execution_count": null,
   "metadata": {},
   "outputs": [],
   "source": [
    "# Set a random seed for reproducibility\n",
    "np.random.seed(42)\n",
    "\n",
    "# Shuffle the data\n",
    "prepared_data = prepared_data.sample(frac=1).reset_index(drop=True)\n",
    "\n",
    "# Calculate the number of rows for each dataset\n",
    "n_total = len(prepared_data)\n",
    "n_training = int(0.7 * n_total)\n",
    "n_validation = int(0.20 * n_total)\n",
    "\n",
    "# Split the features and labels for training, validation, and test\n",
    "training_data = prepared_data.iloc[:n_training]\n",
    "validation_data = prepared_data.iloc[n_training:n_training+n_validation]\n",
    "test_data = prepared_data.iloc[n_training+n_validation:]\n",
    "\n",
    "# Separating features and labels\n",
    "training_features = training_data.drop('price', axis=1)\n",
    "validation_features = validation_data.drop('price', axis=1)\n",
    "test_features = test_data.drop('price', axis=1)\n",
    "\n",
    "training_labels = training_data[['price']]\n",
    "validation_labels = validation_data[['price']]\n",
    "test_labels = test_data[['price']]\n",
    "\n",
    "# Print dimensions of the dataframes\n",
    "print(\"Training features dimensions:\", training_features.shape)\n",
    "print(\"Validation features dimensions:\", validation_features.shape)\n",
    "print(\"Test features dimensions:\", test_features.shape)\n",
    "print()\n",
    "print(\"Training labels dimensions:\", training_labels.shape)\n",
    "print(\"Validation labels dimensions:\", validation_labels.shape)\n",
    "print(\"Test labels dimensions:\", test_labels.shape)"
   ]
  },
  {
   "cell_type": "code",
   "execution_count": null,
   "metadata": {},
   "outputs": [],
   "source": [
    "# Create subdirectory for the pickle files\n",
    "subdirectory = \"pickle_data\"\n",
    "os.makedirs(subdirectory, exist_ok=True)\n",
    "\n",
    "# Export of the prepared data to subdirectory as pickle files\n",
    "training_features.to_pickle(f\"{subdirectory}/training_features.pkl\")\n",
    "validation_features.to_pickle(f\"{subdirectory}/validation_features.pkl\")\n",
    "test_features.to_pickle(f\"{subdirectory}/test_features.pkl\")\n",
    "training_labels.to_pickle(f\"{subdirectory}/training_labels.pkl\")\n",
    "validation_labels.to_pickle(f\"{subdirectory}/validation_labels.pkl\")\n",
    "test_labels.to_pickle(f\"{subdirectory}/test_labels.pkl\")"
   ]
  },
  {
   "cell_type": "code",
   "execution_count": null,
   "metadata": {},
   "outputs": [],
   "source": []
  },
  {
   "cell_type": "markdown",
   "metadata": {},
   "source": []
  }
 ],
 "metadata": {
  "language_info": {
   "name": "python"
  }
 },
 "nbformat": 4,
 "nbformat_minor": 2
}
