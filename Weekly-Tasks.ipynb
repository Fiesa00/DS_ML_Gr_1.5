{
 "cells": [
  {
   "cell_type": "markdown",
   "metadata": {},
   "source": [
    "# Wöchentliche Aufgaben Data Science\n",
    "Hier sind die wöchentlichen Aufgaben nach den jeweiligen Wochen gelisten, um einen besseren Überblick zu behalten :). \n",
    "<br> \n",
    "<br>\n",
    "[Link zum Handbuch](https://opencampus.gitbook.io/opencampus-machine-learning-program/courses/einfuehrung)\n"
   ]
  },
  {
   "cell_type": "markdown",
   "metadata": {},
   "source": [
    "### Woche 4 - Versionierung mit git (Teil 2) und aktuelle Entwicklungen im Bereich ML <br>\n",
    "**Aufgaben**\n",
    "- das Kapitel [„Creating Features“](https://campus.datacamp.com/courses/feature-engineering-for-machine-learning-in-python/creating-features?ex=1) dieses Kurses bei datacamp absolvieren.\n",
    "\n",
    "- Die erste Woche des Kurses [Supervised Machine Learning: Regression and Classification](https://www.coursera.org/learn/machine-learning/) (ca. 2,5 Stunden) von Andrew Ng auf Coursera absolvieren.\n",
    "\n",
    "- Euch im Team treffen, um Ideen zur Umsatzvorhersage zu diskutieren und erste zusätzliche Variablen zu erstellen (auch, ob es Daten gibt, die ihr zusätzlich verwenden könnt).\n",
    "\n",
    "- Das Verzeichnis \"Data Import and Preparation\" Eures Team Repositories ergänzen um:\n",
    "    - Zusätzliche heruntergeladene oder selbst erstellte Daten (z.B. Listen mit Feiertagen)\n",
    "    - Code um alle Daten in einem Datensatz zusammenzuführen\n",
    "    - Code, um neuen Variablen zu erstellen bzw. bestehende Variablen für die Vorhersage aufzubereiten\n",
    "\n",
    "##### Varibalenaufteilung:\n",
    "- Semester-/Schulferien, Feiertage -> Wiebke\n",
    "- Veranstaltungen (Weihnachtsmarkt, Dom (Freimärkte), Fußballspiele, Sonstige) -> Luisa\n",
    "- Inflationsrate?\n",
    "<br> <br>\n",
    "Csv-Datein erstellen mit 1 (hat stattgefunden) und 0 (hat nicht stattgefunden)"
   ]
  },
  {
   "cell_type": "markdown",
   "metadata": {},
   "source": [
    "### Woche 5 - Einführung in das maschinelle Lernen\n",
    "**Aufgabe**\n",
    "- Schaut die Videos des Abschnitts [„The problem of overfitting“](https://www.coursera.org/lecture/machine-learning/the-problem-of-overfitting-erGPe) von Woche 3 des Kurses Supervised Machine Learning: Regression and Classification auf Coursera.\n",
    "\n",
    "- einen Account bei [Kaggle](https://www.kaggle.com) erstellen. --> alle\n",
    "\n",
    "- Euren Datensatz weiter um zusätzliche Variablen ergänzen, die für die Schätzung des Umsatzes relevant sein könnten. --> done\n",
    "\n",
    "- Euren Datensatz teilen in einen Trainingsdatensatz vom 01.07.2013 bis 31.07.2017 und einen Validierungsdatensatz vom 01.08.2017 bis 31.07.2018. --> Teil der Regression\n",
    "\n",
    "- eine lineare Modellgleichung aufstellen, die das adjustierte R² für Euren Trainingsdatensatz maximiert --> Wiebke\n",
    "\n",
    "- im Verzeichnis „Baseline Model\" Eures Team Repositories die Berechnung für die lineare Regression dokumentieren. --> done\n",
    "\n",
    "**Variablenaufbereitung**\n",
    "- Temperatur\n",
    "    - Spalte Jahreszeiten (Frühling, Herbst)\n",
    "    - Relative Kategorien (warm, kalt, durchschnittlich) --> Luisa\n",
    "- Wochentage --> Montag, Dienstag ... --> Nina\n",
    "- Warengruppen -> Verschiede Spalten für die einzelnen Warengruppen (Broetchen_W1, Brot_W2, Konditorei_W3) --> Nina, Luisa\n",
    "- (Wettercode) --> Jahreszeiten?, (Regen, Sonne, ) + Sonnenstunden "
   ]
  },
  {
   "cell_type": "markdown",
   "metadata": {},
   "source": [
    "### Woche 6 - Overfitting und Regularisierung\n",
    "**Aufgabe**\n",
    "- [dieses Video]('https://www.youtube.com/watch?v=GvQwE2OhL8I') (12 Minuten) zur Einführung in Neuronale Netze an anschauen.\n",
    "\n",
    "- Euren Datensatz weiter um zusätzliche Variablen ergänzen, die für die Schätzung des Umsatzes relevant sein könnten.\n",
    "\n",
    "- die Vorhersagegüte Eures linearen Modells hier auf Kaggle testen.\n",
    "\n",
    "- die Kursleitung zu Eurem Repo einladen oder, wenn es öffentlich ist, den Link zu Eurem Repo in einer privaten Nachricht schicken."
   ]
  },
  {
   "cell_type": "markdown",
   "metadata": {},
   "source": [
    "### Woche 7 - Neuronale Netze\n",
    "**Aufgabe**\n",
    "\n",
    "- [dieses Video]('https://www.youtube.com/watch?v=ARq74QuavAo&list=PLkDaE6sCZn6Hn0vK8co82zjQtt3T2Nkqc&index=7') (7 Minuten) schauen, um die Eigenschaften von Dropout-Layern genauer zu verstehen.\n",
    "\n",
    "- [dieses Video]('https://www.youtube.com/watch?v=FDCfw-YqWTE&list=PLkDaE6sCZn6Hn0vK8co82zjQtt3T2Nkqc&index=10') (5 Minuten) schauen, um die Vorteile der Normalisierung besser zu verstehen.\n",
    "\n",
    "- alle Eure Modellvariablen auf die Existenz von fehlenden und unplausiblen Werten hin untersuchen.\n",
    "\n",
    "- Euren Datensatz aufebereiten, in dem ihr alle kategoriellen Features korrekt kodiert und alle Zeilen mit fehlenden Werten entfernt.\n",
    "\n",
    "- ein erstes Neuronales Netz optimieren."
   ]
  },
  {
   "cell_type": "markdown",
   "metadata": {},
   "source": []
  }
 ],
 "metadata": {
  "kernelspec": {
   "display_name": "Python 3",
   "language": "python",
   "name": "python3"
  },
  "language_info": {
   "name": "python",
   "version": "3.12.1"
  }
 },
 "nbformat": 4,
 "nbformat_minor": 2
}
