{
 "cells": [
  {
   "cell_type": "markdown",
   "metadata": {},
   "source": [
    "# Wöchentliche Aufgaben Data Science\n",
    "Hier sind die wöchentlichen Aufgaben nach den jeweiligen Wochen gelisten, um einen besseren Überblick zu behalten :). \n",
    "<br> \n",
    "<br>\n",
    "[Link zum Handbuch](https://opencampus.gitbook.io/opencampus-machine-learning-program/courses/einfuehrung)\n"
   ]
  },
  {
   "cell_type": "markdown",
   "metadata": {},
   "source": [
    "### Woche 4 - Versionierung mit git (Teil 2) und aktuelle Entwicklungen im Bereich ML <br>\n",
    "##### Aufgaben\n",
    "- das Kapitel [„Creating Features“](https://campus.datacamp.com/courses/feature-engineering-for-machine-learning-in-python/creating-features?ex=1) dieses Kurses bei datacamp absolvieren.\n",
    "\n",
    "- Die erste Woche des Kurses [Supervised Machine Learning: Regression and Classification](https://www.coursera.org/learn/machine-learning/) (ca. 2,5 Stunden) von Andrew Ng auf Coursera absolvieren.\n",
    "\n",
    "- Euch im Team treffen, um Ideen zur Umsatzvorhersage zu diskutieren und erste zusätzliche Variablen zu erstellen (auch, ob es Daten gibt, die ihr zusätzlich verwenden könnt).\n",
    "\n",
    "- Das Verzeichnis \"Data Import and Preparation\" Eures Team Repositories ergänzen um:\n",
    "    - Zusätzliche heruntergeladene oder selbst erstellte Daten (z.B. Listen mit Feiertagen)\n",
    "    - Code um alle Daten in einem Datensatz zusammenzuführen\n",
    "    - Code, um neuen Variablen zu erstellen bzw. bestehende Variablen für die Vorhersage aufzubereiten\n",
    "\n",
    "##### Varibalenaufteilung:\n",
    "- Semester-/Schulferien, Feiertage -> Wiebke\n",
    "- Veranstaltungen (Weihnachtsmarkt, Dom (Freimärkte), Fußballspiele, Sonstige) -> Luisa\n",
    "- Inflationsrate?\n",
    "<br> <br>\n",
    "Csv-Datein erstellen mit 1 (hat stattgefunden) und 0 (hat nicht stattgefunden)"
   ]
  },
  {
   "cell_type": "markdown",
   "metadata": {},
   "source": []
  }
 ],
 "metadata": {
  "kernelspec": {
   "display_name": "Python 3",
   "language": "python",
   "name": "python3"
  },
  "language_info": {
   "name": "python",
   "version": "3.12.1"
  }
 },
 "nbformat": 4,
 "nbformat_minor": 2
}
