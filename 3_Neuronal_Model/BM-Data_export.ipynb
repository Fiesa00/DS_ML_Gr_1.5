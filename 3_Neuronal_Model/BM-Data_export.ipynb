{
 "cells": [
  {
   "cell_type": "markdown",
   "metadata": {},
   "source": [
    "## Data Export\n",
    "Hier werden die Predictions-Data so aufbereitet, dass diese im sample_submission.csv Format bei Kaggle hochgeladen werden könnnen."
   ]
  },
  {
   "cell_type": "code",
   "execution_count": 1,
   "metadata": {},
   "outputs": [
    {
     "name": "stdout",
     "output_type": "stream",
     "text": [
      "           id      Umsatz\n",
      "0     1808011  138.883070\n",
      "1     1808021  147.687560\n",
      "2     1808031  145.040330\n",
      "3     1808041  161.527050\n",
      "4     1808051   75.913980\n",
      "...       ...         ...\n",
      "1825  1812226   90.676796\n",
      "1826  1812236   88.140175\n",
      "1827  1812246   47.437683\n",
      "1828  1812276   38.782852\n",
      "1829  1812286   43.671043\n",
      "\n",
      "[1830 rows x 2 columns]\n"
     ]
    }
   ],
   "source": [
    "#Libaries\n",
    "import pandas as pd\n",
    "\n",
    "# Vorbereitung der sample_submission.csv\n",
    "\n",
    "#Einlesen der sample_submission.csv\n",
    "\n",
    "df_submission = pd.read_csv(\"/workspaces/DS_ML_Gr_1.5/3_Neuronal_Model/sample_submission.csv\")\n",
    "\n",
    "# Warengruppe 1: W1_Brot_ID.csv einlesen\n",
    "df_Brot = pd.read_csv(\"/workspaces/DS_ML_Gr_1.5/3_Neuronal_Model/Predictions/W1_Brot_ID.csv\")\n",
    "\n",
    "# Warengruppe 2: W2_Broetchen_ID.csv einlesen\n",
    "df_Broetchen = pd.read_csv(\"/workspaces/DS_ML_Gr_1.5/3_Neuronal_Model/Predictions/W2_Broetchen_ID.csv\")\n",
    "\n",
    "# Warengruppe 3: W3_Crossaint_ID.csv einlesen\n",
    "df_Crossaint = pd.read_csv(\"/workspaces/DS_ML_Gr_1.5/3_Neuronal_Model/Predictions/W3_Croissants_ID.csv\")\n",
    "\n",
    "# Warengruppe 4: W4_Konditorei_ID.csv einlesen\n",
    "df_Konditorei = pd.read_csv(\"/workspaces/DS_ML_Gr_1.5/3_Neuronal_Model/Predictions/W4_Konditorei_ID.csv\")\n",
    "\n",
    "# Warengruppe 5: W5_Kuchen_ID.csv einlesen\n",
    "df_Kuchen = pd.read_csv(\"/workspaces/DS_ML_Gr_1.5/3_Neuronal_Model/Predictions/W5_Kuchen_ID.csv\")\n",
    "\n",
    "# Warengruppe 6: W6_Saisonbrot_ID.csv einlesen\n",
    "df_Saisonbrot = pd.read_csv(\"/workspaces/DS_ML_Gr_1.5/3_Neuronal_Model/Predictions/W6_Saisonbrot_ID.csv\")\n",
    "\n",
    "\n",
    "\n",
    "#Warengruppen DataFrames werden zu einem DataFrame kombiniert:\n",
    "combined_predictions = pd.concat([df_Brot, df_Broetchen, df_Crossaint, df_Konditorei, df_Kuchen, df_Saisonbrot], ignore_index=True)\n",
    "\n",
    "# Merge der DataFrames: Nur die Spalte 'Umsatz' hinzufügen, basierend auf 'id'\n",
    "df_submission[\"Umsatz\"] = df_submission[\"id\"].map(combined_predictions.set_index(\"id\")[\"Umsatz\"])\n",
    "\n",
    "\n",
    "print(df_submission)\n",
    "\n",
    "df_submission.to_csv(\"/workspaces/DS_ML_Gr_1.5/3_Neuronal_Model/sample_submission_NN.csv\", index=False)\n"
   ]
  },
  {
   "cell_type": "code",
   "execution_count": null,
   "metadata": {},
   "outputs": [],
   "source": []
  }
 ],
 "metadata": {
  "kernelspec": {
   "display_name": "Python 3",
   "language": "python",
   "name": "python3"
  },
  "language_info": {
   "codemirror_mode": {
    "name": "ipython",
    "version": 3
   },
   "file_extension": ".py",
   "mimetype": "text/x-python",
   "name": "python",
   "nbconvert_exporter": "python",
   "pygments_lexer": "ipython3",
   "version": "3.12.1"
  }
 },
 "nbformat": 4,
 "nbformat_minor": 2
}
