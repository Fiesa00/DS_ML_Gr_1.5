{
 "cells": [
  {
   "cell_type": "markdown",
   "metadata": {},
   "source": [
    "# Seminar Notizen\n",
    "\n",
    "#### Einführung Maschinelles Lernen\n",
    "##### Lineares Modell\n",
    "\n",
    "- Lineares Modell als Baseline Modell\n",
    "    - einziger Hyperparameter -> Lernrate\n",
    "- Zielvariable --> Umsatz (Vorhersage)\n",
    "- Daten werden aufgeteilt (Trainingsdaten, Validierungsdaten, Testdaten)\n",
    "- Keine Randomisierung möglich (Bäckereidaten zeitabhängig!)<br>\n",
    "- Optimierungsfunktion\n",
    "    - mehrere lokale Maxima, keine globle Minima --> Methode der kleinsten Quadrate nicht geeignet\n",
    "    - Verfahren des absteigenden Gradienten (iteratives Verfahren)\n",
    "    - Gradient --> Richtung der größten Änderung einer Funktion\n",
    "    - **Forward Propagation**: Berechnung der Kostenfunktion\n",
    "    - **Backward Propagation**: Optimierung der Kostenfunktion\n",
    "- Baseline_Modell erstellen!\n",
    "- Warengruppe als Feature!!\n",
    "- Vorhersage --> Was für Warengruppe soll am nächsten Tag produziert werden --> Vorhersagen pro Warengruppe\n",
    "    "
   ]
  }
 ],
 "metadata": {
  "language_info": {
   "name": "python"
  }
 },
 "nbformat": 4,
 "nbformat_minor": 2
}
